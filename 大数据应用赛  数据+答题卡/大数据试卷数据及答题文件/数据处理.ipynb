{
 "metadata": {
  "language_info": {
   "codemirror_mode": {
    "name": "ipython",
    "version": 3
   },
   "file_extension": ".py",
   "mimetype": "text/x-python",
   "name": "python",
   "nbconvert_exporter": "python",
   "pygments_lexer": "ipython3",
   "version": "3.8.5-final"
  },
  "orig_nbformat": 2,
  "kernelspec": {
   "name": "python3",
   "display_name": "Python 3",
   "language": "python"
  }
 },
 "nbformat": 4,
 "nbformat_minor": 2,
 "cells": [
  {
   "cell_type": "code",
   "execution_count": 23,
   "metadata": {},
   "outputs": [],
   "source": [
    "import pandas as pd\n",
    "import numpy as np\n",
    "import seaborn as sns\n",
    "import matplotlib.pyplot as plt"
   ]
  },
  {
   "cell_type": "code",
   "execution_count": 24,
   "metadata": {},
   "outputs": [
    {
     "output_type": "execute_result",
     "data": {
      "text/plain": [
       "           时间       机台ID           机台名称  换件数量     维修费用  维修次数\n",
       "0  2013/12/15  218040005  卷接机硬卷5#(ZJ17)     1  4480.00     1\n",
       "1  2013/12/15  218040003  卷接机硬卷3#(ZJ17)     1    34.19     1\n",
       "2  2013/12/15  218040003  卷接机硬卷3#(ZJ17)     1   141.02     1\n",
       "3  2013/12/15  218040003  卷接机硬卷3#(ZJ17)     2    68.38     1\n",
       "4  2013/12/15  219100001  包装机硬包1#(ZB45)     1  2136.75     1"
      ],
      "text/html": "<div>\n<style scoped>\n    .dataframe tbody tr th:only-of-type {\n        vertical-align: middle;\n    }\n\n    .dataframe tbody tr th {\n        vertical-align: top;\n    }\n\n    .dataframe thead th {\n        text-align: right;\n    }\n</style>\n<table border=\"1\" class=\"dataframe\">\n  <thead>\n    <tr style=\"text-align: right;\">\n      <th></th>\n      <th>时间</th>\n      <th>机台ID</th>\n      <th>机台名称</th>\n      <th>换件数量</th>\n      <th>维修费用</th>\n      <th>维修次数</th>\n    </tr>\n  </thead>\n  <tbody>\n    <tr>\n      <th>0</th>\n      <td>2013/12/15</td>\n      <td>218040005</td>\n      <td>卷接机硬卷5#(ZJ17)</td>\n      <td>1</td>\n      <td>4480.00</td>\n      <td>1</td>\n    </tr>\n    <tr>\n      <th>1</th>\n      <td>2013/12/15</td>\n      <td>218040003</td>\n      <td>卷接机硬卷3#(ZJ17)</td>\n      <td>1</td>\n      <td>34.19</td>\n      <td>1</td>\n    </tr>\n    <tr>\n      <th>2</th>\n      <td>2013/12/15</td>\n      <td>218040003</td>\n      <td>卷接机硬卷3#(ZJ17)</td>\n      <td>1</td>\n      <td>141.02</td>\n      <td>1</td>\n    </tr>\n    <tr>\n      <th>3</th>\n      <td>2013/12/15</td>\n      <td>218040003</td>\n      <td>卷接机硬卷3#(ZJ17)</td>\n      <td>2</td>\n      <td>68.38</td>\n      <td>1</td>\n    </tr>\n    <tr>\n      <th>4</th>\n      <td>2013/12/15</td>\n      <td>219100001</td>\n      <td>包装机硬包1#(ZB45)</td>\n      <td>1</td>\n      <td>2136.75</td>\n      <td>1</td>\n    </tr>\n  </tbody>\n</table>\n</div>"
     },
     "metadata": {},
     "execution_count": 24
    }
   ],
   "source": [
    "data_1 = pd.read_csv(\"./维修换件清单1.txt\",sep=',')\n",
    "data_1.head()"
   ]
  },
  {
   "cell_type": "code",
   "execution_count": 25,
   "metadata": {},
   "outputs": [
    {
     "output_type": "execute_result",
     "data": {
      "text/plain": [
       "           时间       机台ID           机台名称  换件数量      维修费用  维修次数\n",
       "0  2013/12/15  218040005  卷接机硬卷5#(ZJ17)     1   4480.00     1\n",
       "1  2013/12/16  215120451     YF26滤棒接收装置    12    475.16     2\n",
       "2   2013/12/7  215020007      风力柔性送丝机7#     1   3658.12     1\n",
       "3   2013/12/3  222990001         废烟支处理机     1  13010.00     1\n",
       "4   2013/10/8  218040008  卷接机硬卷8#(ZJ17)    10      0.00     2"
      ],
      "text/html": "<div>\n<style scoped>\n    .dataframe tbody tr th:only-of-type {\n        vertical-align: middle;\n    }\n\n    .dataframe tbody tr th {\n        vertical-align: top;\n    }\n\n    .dataframe thead th {\n        text-align: right;\n    }\n</style>\n<table border=\"1\" class=\"dataframe\">\n  <thead>\n    <tr style=\"text-align: right;\">\n      <th></th>\n      <th>时间</th>\n      <th>机台ID</th>\n      <th>机台名称</th>\n      <th>换件数量</th>\n      <th>维修费用</th>\n      <th>维修次数</th>\n    </tr>\n  </thead>\n  <tbody>\n    <tr>\n      <th>0</th>\n      <td>2013/12/15</td>\n      <td>218040005</td>\n      <td>卷接机硬卷5#(ZJ17)</td>\n      <td>1</td>\n      <td>4480.00</td>\n      <td>1</td>\n    </tr>\n    <tr>\n      <th>1</th>\n      <td>2013/12/16</td>\n      <td>215120451</td>\n      <td>YF26滤棒接收装置</td>\n      <td>12</td>\n      <td>475.16</td>\n      <td>2</td>\n    </tr>\n    <tr>\n      <th>2</th>\n      <td>2013/12/7</td>\n      <td>215020007</td>\n      <td>风力柔性送丝机7#</td>\n      <td>1</td>\n      <td>3658.12</td>\n      <td>1</td>\n    </tr>\n    <tr>\n      <th>3</th>\n      <td>2013/12/3</td>\n      <td>222990001</td>\n      <td>废烟支处理机</td>\n      <td>1</td>\n      <td>13010.00</td>\n      <td>1</td>\n    </tr>\n    <tr>\n      <th>4</th>\n      <td>2013/10/8</td>\n      <td>218040008</td>\n      <td>卷接机硬卷8#(ZJ17)</td>\n      <td>10</td>\n      <td>0.00</td>\n      <td>2</td>\n    </tr>\n  </tbody>\n</table>\n</div>"
     },
     "metadata": {},
     "execution_count": 25
    }
   ],
   "source": [
    "data_2 = pd.read_csv(\"./维修换件清单2.txt\",sep=',')\n",
    "data_2.head()"
   ]
  },
  {
   "cell_type": "code",
   "execution_count": 26,
   "metadata": {},
   "outputs": [
    {
     "output_type": "execute_result",
     "data": {
      "text/plain": [
       "<bound method NDFrame.describe of               时间       机台ID           机台名称  换件数量     维修费用  维修次数\n",
       "0     2013/12/15  218040005  卷接机硬卷5#(ZJ17)     1  4480.00     1\n",
       "1     2013/12/15  218040003  卷接机硬卷3#(ZJ17)     1    34.19     1\n",
       "2     2013/12/15  218040003  卷接机硬卷3#(ZJ17)     1   141.02     1\n",
       "3     2013/12/15  218040003  卷接机硬卷3#(ZJ17)     2    68.38     1\n",
       "4     2013/12/15  219100001  包装机硬包1#(ZB45)     1  2136.75     1\n",
       "...          ...        ...            ...   ...      ...   ...\n",
       "2846   2014/7/14  219100005  包装机硬包5#(ZB45)     1   633.33     1\n",
       "2847   2014/7/14  219100005  包装机硬包5#(ZB45)     1   808.55     1\n",
       "2848   2014/7/14  219100005  包装机硬包5#(ZB45)     8   820.48     1\n",
       "2849   2014/7/14  219100005  包装机硬包5#(ZB45)     1   188.04     1\n",
       "2850   2014/7/14  219100005  包装机硬包5#(ZB45)     1    29.05     1\n",
       "\n",
       "[7824 rows x 6 columns]>"
      ]
     },
     "metadata": {},
     "execution_count": 26
    }
   ],
   "source": [
    "data = pd.concat([data_1,data_2])\n",
    "data.describe"
   ]
  },
  {
   "cell_type": "code",
   "execution_count": 31,
   "metadata": {},
   "outputs": [
    {
     "output_type": "execute_result",
     "data": {
      "text/plain": [
       "              时间       机台ID             机台名称  换件数量     维修费用  维修次数\n",
       "0     2013/12/15  218040005    卷接机硬卷5#(ZJ17)     1  4480.00     1\n",
       "1     2013/12/15  218040003    卷接机硬卷3#(ZJ17)     1    34.19     1\n",
       "2     2013/12/15  218040003    卷接机硬卷3#(ZJ17)     1   141.02     1\n",
       "3     2013/12/15  218040003    卷接机硬卷3#(ZJ17)     2    68.38     1\n",
       "4     2013/12/15  219100001    包装机硬包1#(ZB45)     1  2136.75     1\n",
       "...          ...        ...              ...   ...      ...   ...\n",
       "2140    2014/7/5  219010137  包装机高速机3#(FOCKE)     6   597.50     2\n",
       "2142   2014/7/18  218040008    卷接机硬卷8#(ZJ17)     9  3449.53     2\n",
       "2143   2014/8/25  218040001    卷接机硬卷1#(ZJ17)     2   646.15     2\n",
       "2145   2014/8/25  218040085    卷接机组高速机1#(M5)     2   373.89     2\n",
       "2148    2014/9/4  215010492            喂料机2#     4  1190.00     2\n",
       "\n",
       "[4923 rows x 6 columns]"
      ],
      "text/html": "<div>\n<style scoped>\n    .dataframe tbody tr th:only-of-type {\n        vertical-align: middle;\n    }\n\n    .dataframe tbody tr th {\n        vertical-align: top;\n    }\n\n    .dataframe thead th {\n        text-align: right;\n    }\n</style>\n<table border=\"1\" class=\"dataframe\">\n  <thead>\n    <tr style=\"text-align: right;\">\n      <th></th>\n      <th>时间</th>\n      <th>机台ID</th>\n      <th>机台名称</th>\n      <th>换件数量</th>\n      <th>维修费用</th>\n      <th>维修次数</th>\n    </tr>\n  </thead>\n  <tbody>\n    <tr>\n      <th>0</th>\n      <td>2013/12/15</td>\n      <td>218040005</td>\n      <td>卷接机硬卷5#(ZJ17)</td>\n      <td>1</td>\n      <td>4480.00</td>\n      <td>1</td>\n    </tr>\n    <tr>\n      <th>1</th>\n      <td>2013/12/15</td>\n      <td>218040003</td>\n      <td>卷接机硬卷3#(ZJ17)</td>\n      <td>1</td>\n      <td>34.19</td>\n      <td>1</td>\n    </tr>\n    <tr>\n      <th>2</th>\n      <td>2013/12/15</td>\n      <td>218040003</td>\n      <td>卷接机硬卷3#(ZJ17)</td>\n      <td>1</td>\n      <td>141.02</td>\n      <td>1</td>\n    </tr>\n    <tr>\n      <th>3</th>\n      <td>2013/12/15</td>\n      <td>218040003</td>\n      <td>卷接机硬卷3#(ZJ17)</td>\n      <td>2</td>\n      <td>68.38</td>\n      <td>1</td>\n    </tr>\n    <tr>\n      <th>4</th>\n      <td>2013/12/15</td>\n      <td>219100001</td>\n      <td>包装机硬包1#(ZB45)</td>\n      <td>1</td>\n      <td>2136.75</td>\n      <td>1</td>\n    </tr>\n    <tr>\n      <th>...</th>\n      <td>...</td>\n      <td>...</td>\n      <td>...</td>\n      <td>...</td>\n      <td>...</td>\n      <td>...</td>\n    </tr>\n    <tr>\n      <th>2140</th>\n      <td>2014/7/5</td>\n      <td>219010137</td>\n      <td>包装机高速机3#(FOCKE)</td>\n      <td>6</td>\n      <td>597.50</td>\n      <td>2</td>\n    </tr>\n    <tr>\n      <th>2142</th>\n      <td>2014/7/18</td>\n      <td>218040008</td>\n      <td>卷接机硬卷8#(ZJ17)</td>\n      <td>9</td>\n      <td>3449.53</td>\n      <td>2</td>\n    </tr>\n    <tr>\n      <th>2143</th>\n      <td>2014/8/25</td>\n      <td>218040001</td>\n      <td>卷接机硬卷1#(ZJ17)</td>\n      <td>2</td>\n      <td>646.15</td>\n      <td>2</td>\n    </tr>\n    <tr>\n      <th>2145</th>\n      <td>2014/8/25</td>\n      <td>218040085</td>\n      <td>卷接机组高速机1#(M5)</td>\n      <td>2</td>\n      <td>373.89</td>\n      <td>2</td>\n    </tr>\n    <tr>\n      <th>2148</th>\n      <td>2014/9/4</td>\n      <td>215010492</td>\n      <td>喂料机2#</td>\n      <td>4</td>\n      <td>1190.00</td>\n      <td>2</td>\n    </tr>\n  </tbody>\n</table>\n<p>4923 rows × 6 columns</p>\n</div>"
     },
     "metadata": {},
     "execution_count": 31
    }
   ],
   "source": [
    "data.drop_duplicates()"
   ]
  },
  {
   "cell_type": "code",
   "execution_count": 29,
   "metadata": {},
   "outputs": [
    {
     "output_type": "execute_result",
     "data": {
      "text/plain": [
       "            time             ID             name  Number          PAY  many\n",
       "629     2013/8/7      215120451       YF26滤棒接收装置       4  21910000.44     1\n",
       "4586    2013/8/7      215120451       YF26滤棒接收装置       4  21910000.44     1\n",
       "3167  2013/10/28      215120451       YF26滤棒接收装置       4  21910000.44     1\n",
       "4807   2014/8/29      218040086    卷接机组高速机2#(M5)      12    464128.98     9\n",
       "4222   2014/8/29      218040086    卷接机组高速机2#(M5)       1    331240.00     1\n",
       "...          ...            ...              ...     ...          ...   ...\n",
       "2946  2013/10/11  2191000000010   包装机硬包10#(ZB45)       2         0.00     1\n",
       "1812   2014/1/18      218040010   卷接机硬卷10#(ZJ17)       1         0.00     1\n",
       "2944  2013/10/13      221010002      YP11A装封箱机2#       2         0.00     1\n",
       "372   2013/12/28      219100005    包装机硬包5#(ZB45)       2         0.00     1\n",
       "4061    2014/7/5      219010137  包装机高速机3#(FOCKE)       2       -42.50     1\n",
       "\n",
       "[4973 rows x 6 columns]"
      ],
      "text/html": "<div>\n<style scoped>\n    .dataframe tbody tr th:only-of-type {\n        vertical-align: middle;\n    }\n\n    .dataframe tbody tr th {\n        vertical-align: top;\n    }\n\n    .dataframe thead th {\n        text-align: right;\n    }\n</style>\n<table border=\"1\" class=\"dataframe\">\n  <thead>\n    <tr style=\"text-align: right;\">\n      <th></th>\n      <th>time</th>\n      <th>ID</th>\n      <th>name</th>\n      <th>Number</th>\n      <th>PAY</th>\n      <th>many</th>\n    </tr>\n  </thead>\n  <tbody>\n    <tr>\n      <th>629</th>\n      <td>2013/8/7</td>\n      <td>215120451</td>\n      <td>YF26滤棒接收装置</td>\n      <td>4</td>\n      <td>21910000.44</td>\n      <td>1</td>\n    </tr>\n    <tr>\n      <th>4586</th>\n      <td>2013/8/7</td>\n      <td>215120451</td>\n      <td>YF26滤棒接收装置</td>\n      <td>4</td>\n      <td>21910000.44</td>\n      <td>1</td>\n    </tr>\n    <tr>\n      <th>3167</th>\n      <td>2013/10/28</td>\n      <td>215120451</td>\n      <td>YF26滤棒接收装置</td>\n      <td>4</td>\n      <td>21910000.44</td>\n      <td>1</td>\n    </tr>\n    <tr>\n      <th>4807</th>\n      <td>2014/8/29</td>\n      <td>218040086</td>\n      <td>卷接机组高速机2#(M5)</td>\n      <td>12</td>\n      <td>464128.98</td>\n      <td>9</td>\n    </tr>\n    <tr>\n      <th>4222</th>\n      <td>2014/8/29</td>\n      <td>218040086</td>\n      <td>卷接机组高速机2#(M5)</td>\n      <td>1</td>\n      <td>331240.00</td>\n      <td>1</td>\n    </tr>\n    <tr>\n      <th>...</th>\n      <td>...</td>\n      <td>...</td>\n      <td>...</td>\n      <td>...</td>\n      <td>...</td>\n      <td>...</td>\n    </tr>\n    <tr>\n      <th>2946</th>\n      <td>2013/10/11</td>\n      <td>2191000000010</td>\n      <td>包装机硬包10#(ZB45)</td>\n      <td>2</td>\n      <td>0.00</td>\n      <td>1</td>\n    </tr>\n    <tr>\n      <th>1812</th>\n      <td>2014/1/18</td>\n      <td>218040010</td>\n      <td>卷接机硬卷10#(ZJ17)</td>\n      <td>1</td>\n      <td>0.00</td>\n      <td>1</td>\n    </tr>\n    <tr>\n      <th>2944</th>\n      <td>2013/10/13</td>\n      <td>221010002</td>\n      <td>YP11A装封箱机2#</td>\n      <td>2</td>\n      <td>0.00</td>\n      <td>1</td>\n    </tr>\n    <tr>\n      <th>372</th>\n      <td>2013/12/28</td>\n      <td>219100005</td>\n      <td>包装机硬包5#(ZB45)</td>\n      <td>2</td>\n      <td>0.00</td>\n      <td>1</td>\n    </tr>\n    <tr>\n      <th>4061</th>\n      <td>2014/7/5</td>\n      <td>219010137</td>\n      <td>包装机高速机3#(FOCKE)</td>\n      <td>2</td>\n      <td>-42.50</td>\n      <td>1</td>\n    </tr>\n  </tbody>\n</table>\n<p>4973 rows × 6 columns</p>\n</div>"
     },
     "metadata": {},
     "execution_count": 29
    }
   ],
   "source": [
    "top_3 = data_1.sort_values(by='PAY',ascending=False)\n",
    "top_3"
   ]
  },
  {
   "cell_type": "code",
   "execution_count": 30,
   "metadata": {},
   "outputs": [
    {
     "output_type": "execute_result",
     "data": {
      "text/plain": [
       "            time         ID        name  Number          PAY  many\n",
       "629     2013/8/7  215120451  YF26滤棒接收装置       4  21910000.44     1\n",
       "4586    2013/8/7  215120451  YF26滤棒接收装置       4  21910000.44     1\n",
       "3167  2013/10/28  215120451  YF26滤棒接收装置       4  21910000.44     1"
      ],
      "text/html": "<div>\n<style scoped>\n    .dataframe tbody tr th:only-of-type {\n        vertical-align: middle;\n    }\n\n    .dataframe tbody tr th {\n        vertical-align: top;\n    }\n\n    .dataframe thead th {\n        text-align: right;\n    }\n</style>\n<table border=\"1\" class=\"dataframe\">\n  <thead>\n    <tr style=\"text-align: right;\">\n      <th></th>\n      <th>time</th>\n      <th>ID</th>\n      <th>name</th>\n      <th>Number</th>\n      <th>PAY</th>\n      <th>many</th>\n    </tr>\n  </thead>\n  <tbody>\n    <tr>\n      <th>629</th>\n      <td>2013/8/7</td>\n      <td>215120451</td>\n      <td>YF26滤棒接收装置</td>\n      <td>4</td>\n      <td>21910000.44</td>\n      <td>1</td>\n    </tr>\n    <tr>\n      <th>4586</th>\n      <td>2013/8/7</td>\n      <td>215120451</td>\n      <td>YF26滤棒接收装置</td>\n      <td>4</td>\n      <td>21910000.44</td>\n      <td>1</td>\n    </tr>\n    <tr>\n      <th>3167</th>\n      <td>2013/10/28</td>\n      <td>215120451</td>\n      <td>YF26滤棒接收装置</td>\n      <td>4</td>\n      <td>21910000.44</td>\n      <td>1</td>\n    </tr>\n  </tbody>\n</table>\n</div>"
     },
     "metadata": {},
     "execution_count": 30
    }
   ],
   "source": [
    "top_3.iloc[:3]"
   ]
  },
  {
   "cell_type": "code",
   "execution_count": null,
   "metadata": {},
   "outputs": [],
   "source": []
  },
  {
   "cell_type": "code",
   "execution_count": null,
   "metadata": {},
   "outputs": [],
   "source": []
  },
  {
   "cell_type": "code",
   "execution_count": null,
   "metadata": {},
   "outputs": [],
   "source": []
  },
  {
   "cell_type": "code",
   "execution_count": null,
   "metadata": {},
   "outputs": [],
   "source": []
  },
  {
   "cell_type": "code",
   "execution_count": null,
   "metadata": {},
   "outputs": [],
   "source": []
  }
 ]
}